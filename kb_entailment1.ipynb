{
  "nbformat": 4,
  "nbformat_minor": 0,
  "metadata": {
    "colab": {
      "provenance": []
    },
    "kernelspec": {
      "name": "python3",
      "display_name": "Python 3"
    },
    "language_info": {
      "name": "python"
    }
  },
  "cells": [
    {
      "cell_type": "code",
      "source": [
        "def tell(kb, rule):\n",
        "    kb.append(rule)\n",
        "\n",
        "combinations = [(True, True, True), (True, True, False),\n",
        "                (True, False, True), (True, False, False),\n",
        "                (False, True, True), (False, True, False),\n",
        "                (False, False, True), (False, False, False)]\n",
        "\n",
        "\n",
        "def ask(kb, q):\n",
        "    for c in combinations:\n",
        "        s = r1(c)\n",
        "        f = q(c)\n",
        "        print(s, f)\n",
        "        if s != f and s != False:\n",
        "            return 'Does not entail'\n",
        "    return 'Entails'\n",
        "\n",
        "\n",
        "kb = []\n",
        "\n",
        "rule_str = input(\"Enter Rule 1 as a lambda function (e.g., lambda x: x[0] or x[1] and (x[0] and x[1]): \")\n",
        "r1 = eval(rule_str)\n",
        "tell(kb, r1)\n",
        "\n",
        "query_str = input(\"Enter Query as a lambda function (e.g., lambda x: x[0] and x[1] and (x[0] or x[1]): \")\n",
        "q = eval(query_str)\n",
        "\n",
        "\n",
        "result = ask(kb, q)\n",
        "print(result)"
      ],
      "metadata": {
        "colab": {
          "base_uri": "https://localhost:8080/"
        },
        "id": "fny0zw6BjcMc",
        "outputId": "43716531-a325-4538-c0ff-f0422d1fe5b2"
      },
      "execution_count": null,
      "outputs": [
        {
          "output_type": "stream",
          "name": "stdout",
          "text": [
            "Enter Rule 1 as a lambda function (e.g., lambda x: x[0] or x[1] and (x[0] and x[1]): lambda x: (not x[1] or not x[0] or x[2]) and (not x[1] and x[0]) and x[1]\n",
            "Enter Query as a lambda function (e.g., lambda x: x[0] and x[1] and (x[0] or x[1]): lambda x: x[2] \n",
            "False True\n",
            "False False\n",
            "False True\n",
            "False False\n",
            "False True\n",
            "False False\n",
            "False True\n",
            "False False\n",
            "Entails\n"
          ]
        }
      ]
    }
  ]
}