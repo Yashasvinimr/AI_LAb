{
  "nbformat": 4,
  "nbformat_minor": 0,
  "metadata": {
    "colab": {
      "provenance": []
    },
    "kernelspec": {
      "name": "python3",
      "display_name": "Python 3"
    },
    "language_info": {
      "name": "python"
    }
  },
  "cells": [
    {
      "cell_type": "code",
      "source": [
        "import re\n",
        "\n",
        "def main():\n",
        "    rules = input(\"Enter the rules (space-separated): \")\n",
        "    goal = input(\"Enter the goal: \")\n",
        "    rules = rules.split(' ')\n",
        "    steps = resolve(rules, goal)\n",
        "    print('\\nStep\\t|Clause\\t|Derivation\\t')\n",
        "    print('-' * 30)\n",
        "    i = 1\n",
        "    for step in steps:\n",
        "        print(f' {i}.\\t| {step}\\t| {steps[step]}\\t')\n",
        "        i += 1\n",
        "\n",
        "\n",
        "def negate(term):\n",
        "    return f'~{term}' if term[0] != '~' else term[1]\n",
        "\n",
        "\n",
        "def split_terms(rule):\n",
        "    exp = '(~*[PQRS])'\n",
        "    terms = re.findall(exp, rule)\n",
        "    return terms\n",
        "\n",
        "\n",
        "def contradiction(goal, clause):\n",
        "    contradictions = [ f'{goal}v{negate(goal)}', f'{negate(goal)}v{goal}']\n",
        "    return clause in contradictions\n",
        "def resolve(rules, goal):\n",
        "    temp = rules.copy()\n",
        "    temp += [negate(goal)]\n",
        "    steps = dict()\n",
        "    for rule in temp:\n",
        "        steps[rule] = 'Given.'\n",
        "    steps[negate(goal)] = 'Negated conclusion.'\n",
        "    i = 0\n",
        "    while i < len(temp):\n",
        "        n = len(temp)\n",
        "        j = (i + 1) % n\n",
        "        clauses = []\n",
        "        while j != i:\n",
        "            terms1 = split_terms(temp[i])\n",
        "            terms2 = split_terms(temp[j])\n",
        "            for c in terms1:\n",
        "                if negate(c) in terms2:\n",
        "                    t1 = [t for t in terms1 if t != c]\n",
        "                    t2 = [t for t in terms2 if t != negate(c)]\n",
        "                    gen = t1 + t2\n",
        "                    if len(gen) == 2:\n",
        "                        if gen[0] != negate(gen[1]):\n",
        "                            clauses += [f'{gen[0]}v{gen[1]}']\n",
        "                        else:\n",
        "                            if contradiction(goal,f'{gen[0]}v{gen[1]}'):\n",
        "                                temp.append(f'{gen[0]}v{gen[1]}')\n",
        "                                steps[''] = f\"Resolved {temp[i]} and {temp[j]} to {temp[-1]}, which is in turn null. \\\n",
        "                                \\nA contradiction is found when {negate(goal)} is assumed as true. Hence, {goal} is true.\"\n",
        "                                return steps\n",
        "                    elif len(gen) == 1:\n",
        "                        clauses += [f'{gen[0]}']\n",
        "                    else:\n",
        "                        if contradiction(goal,f'{terms1[0]}v{terms2[0]}'):\n",
        "                            temp.append(f'{terms1[0]}v{terms2[0]}')\n",
        "                            steps[''] = f\"Resolved {temp[i]} and {temp[j]} to {temp[-1]}, which is in turn null. \\\n",
        "                            \\nA contradiction is found when {negate(goal)} is assumed as true. Hence, {goal} is true.\"\n",
        "                            return steps\n",
        "            for clause in clauses:\n",
        "                if clause not in temp :\n",
        "                    temp.append(clause)\n",
        "                    steps[clause] = f'Resolved from {temp[i]} and {temp[j]}.'\n",
        "            j = (j + 1) % n\n",
        "        i += 1\n",
        "    return steps\n",
        "if __name__ == \"__main__\":\n",
        "    main()"
      ],
      "metadata": {
        "colab": {
          "base_uri": "https://localhost:8080/"
        },
        "id": "9L84636HqbT1",
        "outputId": "b8106333-c651-4b52-c5a3-0d22e6fe2e3d"
      },
      "execution_count": null,
      "outputs": [
        {
          "output_type": "stream",
          "name": "stdout",
          "text": [
            "Enter the rules (space-separated): Rv~P Rv~Q ~RvP ~RvQ\n",
            "Enter the goal: R\n",
            "\n",
            "Step\t|Clause\t|Derivation\t\n",
            "------------------------------\n",
            " 1.\t| Rv~P\t| Given.\t\n",
            " 2.\t| Rv~Q\t| Given.\t\n",
            " 3.\t| ~RvP\t| Given.\t\n",
            " 4.\t| ~RvQ\t| Given.\t\n",
            " 5.\t| ~R\t| Negated conclusion.\t\n",
            " 6.\t| \t| Resolved Rv~P and ~RvP to Rv~R, which is in turn null.                                 \n",
            "A contradiction is found when ~R is assumed as true. Hence, R is true.\t\n"
          ]
        }
      ]
    }
  ]
}