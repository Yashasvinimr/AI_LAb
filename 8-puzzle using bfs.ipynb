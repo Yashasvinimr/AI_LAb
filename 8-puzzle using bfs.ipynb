{
  "nbformat": 4,
  "nbformat_minor": 0,
  "metadata": {
    "colab": {
      "provenance": []
    },
    "kernelspec": {
      "name": "python3",
      "display_name": "Python 3"
    },
    "language_info": {
      "name": "python"
    }
  },
  "cells": [
    {
      "cell_type": "code",
      "source": [
        "def bfs(src, target):\n",
        "    queue = []\n",
        "    queue.append(src)\n",
        "    exp = []\n",
        "    while len(queue) > 0:\n",
        "        source = queue.pop(0)\n",
        "        exp.append(source)\n",
        "\n",
        "        print(source[0], '|', source[1], '|', source[2])\n",
        "        print(source[3], '|', source[4], '|', source[5])\n",
        "        print(source[6], '|', source[7], '|', source[8])\n",
        "        print(\"-----------\")\n",
        "        if source == target:\n",
        "            print(\"Success\")\n",
        "            return\n",
        "        poss_moves_to_do = possible_moves(source, exp)\n",
        "        for move in poss_moves_to_do:\n",
        "            if move not in exp and move not in queue:\n",
        "                queue.append(move)\n",
        "\n",
        "def possible_moves(state, visited_states):\n",
        "    b = state.index(0)\n",
        "    d = []\n",
        "    if b not in [0, 1, 2]:\n",
        "        d.append('u')\n",
        "    if b not in [6, 7, 8]:\n",
        "        d.append('d')\n",
        "    if b not in [0, 3, 6]:\n",
        "        d.append('l')\n",
        "    if b not in [2, 5, 8]:\n",
        "        d.append('r')\n",
        "\n",
        "    pos_moves_it_can = []\n",
        "\n",
        "    for i in d:\n",
        "        pos_moves_it_can.append(gen(state, i, b))\n",
        "    return [move_it_can for move_it_can in pos_moves_it_can if move_it_can not in visited_states]\n",
        "\n",
        "def gen(state, m, b):\n",
        "    temp = state.copy()\n",
        "    if m == 'd':\n",
        "        temp[b + 3], temp[b] = temp[b], temp[b + 3]\n",
        "    if m == 'u':\n",
        "        temp[b - 3], temp[b] = temp[b], temp[b - 3]\n",
        "    if m == 'l':\n",
        "        temp[b - 1], temp[b] = temp[b], temp[b - 1]\n",
        "    if m == 'r':\n",
        "        temp[b + 1], temp[b] = temp[b], temp[b + 1]\n",
        "    return temp\n",
        "\n",
        "print(\"Enter the initial state of the puzzle (use numbers 0-8 separated by spaces):\")\n",
        "src = list(map(int, input().split()))\n",
        "\n",
        "print(\"Enter the goal state of the puzzle (use numbers 0-8 separated by spaces):\")\n",
        "target = list(map(int, input().split()))\n",
        "bfs(src, target)\n"
      ],
      "metadata": {
        "colab": {
          "base_uri": "https://localhost:8080/"
        },
        "id": "jQNJRu8A7yuN",
        "outputId": "667672b5-a723-422a-abb6-976a15c573d5"
      },
      "execution_count": null,
      "outputs": [
        {
          "output_type": "stream",
          "name": "stdout",
          "text": [
            "Enter the initial state of the puzzle (use numbers 0-8 separated by spaces):\n",
            "1 2 3 0 4 5 6 7 8\n",
            "Enter the goal state of the puzzle (use numbers 0-8 separated by spaces):\n",
            "1 2 3 4 5 0 6 7 8\n",
            "1 | 2 | 3\n",
            "0 | 4 | 5\n",
            "6 | 7 | 8\n",
            "-----------\n",
            "0 | 2 | 3\n",
            "1 | 4 | 5\n",
            "6 | 7 | 8\n",
            "-----------\n",
            "1 | 2 | 3\n",
            "6 | 4 | 5\n",
            "0 | 7 | 8\n",
            "-----------\n",
            "1 | 2 | 3\n",
            "4 | 0 | 5\n",
            "6 | 7 | 8\n",
            "-----------\n",
            "2 | 0 | 3\n",
            "1 | 4 | 5\n",
            "6 | 7 | 8\n",
            "-----------\n",
            "1 | 2 | 3\n",
            "6 | 4 | 5\n",
            "7 | 0 | 8\n",
            "-----------\n",
            "1 | 0 | 3\n",
            "4 | 2 | 5\n",
            "6 | 7 | 8\n",
            "-----------\n",
            "1 | 2 | 3\n",
            "4 | 7 | 5\n",
            "6 | 0 | 8\n",
            "-----------\n",
            "1 | 2 | 3\n",
            "4 | 5 | 0\n",
            "6 | 7 | 8\n",
            "-----------\n",
            "Success\n"
          ]
        }
      ]
    }
  ]
}