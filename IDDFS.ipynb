{
  "nbformat": 4,
  "nbformat_minor": 0,
  "metadata": {
    "colab": {
      "provenance": []
    },
    "kernelspec": {
      "name": "python3",
      "display_name": "Python 3"
    },
    "language_info": {
      "name": "python"
    }
  },
  "cells": [
    {
      "cell_type": "code",
      "source": [
        "def dfs(src,target,limit,visited_states):\n",
        "    if src == target:\n",
        "        return True\n",
        "    if limit <= 0:\n",
        "        return False\n",
        "    visited_states.append(src)\n",
        "    moves = possible_moves(src,visited_states)\n",
        "    for move in moves:\n",
        "        if dfs(move, target, limit-1, visited_states):\n",
        "            return True\n",
        "    return False\n",
        "\n",
        "def possible_moves(state,visited_states):\n",
        "    b = state.index(-1)\n",
        "    d = []\n",
        "    if b not in [0,1,2]:\n",
        "        d += 'u'\n",
        "    if b not in [6,7,8]:\n",
        "        d += 'd'\n",
        "    if b not in [2,5,8]:\n",
        "        d += 'r'\n",
        "    if b not in [0,3,6]:\n",
        "        d += 'l'\n",
        "    pos_moves = []\n",
        "    for move in d:\n",
        "        pos_moves.append(gen(state,move,b))\n",
        "    return [move for move in pos_moves if move not in visited_states]\n",
        "\n",
        "def gen(state, move, blank):\n",
        "    temp = state.copy()\n",
        "    if move == 'u':\n",
        "        temp[blank-3], temp[blank] = temp[blank], temp[blank-3]\n",
        "    if move == 'd':\n",
        "        temp[blank+3], temp[blank] = temp[blank], temp[blank+3]\n",
        "    if move == 'r':\n",
        "        temp[blank+1], temp[blank] = temp[blank], temp[blank+1]\n",
        "    if move == 'l':\n",
        "        temp[blank-1], temp[blank] = temp[blank], temp[blank-1]\n",
        "    return temp\n",
        "\n",
        "def iddfs(src,target,depth):\n",
        "    for i in range(depth):\n",
        "        visited_states = []\n",
        "        if dfs(src,target,i+1,visited_states):\n",
        "            return True, i+1\n",
        "    return False\n",
        "\n",
        "print(\"Enter the initial state of the puzzle (use numbers 0-8 separated by spaces):\")\n",
        "src = list(map(int, input().split()))\n",
        "\n",
        "print(\"Enter the goal state of the puzzle (use numbers 0-8 separated by spaces):\")\n",
        "target = list(map(int, input().split()))\n",
        "depth = 8\n",
        "iddfs(src, target, depth)\n"
      ],
      "metadata": {
        "colab": {
          "base_uri": "https://localhost:8080/"
        },
        "outputId": "9399570d-b70c-4585-d88b-e6fb3def059a",
        "id": "wUoYqEINblDt"
      },
      "execution_count": null,
      "outputs": [
        {
          "name": "stdout",
          "output_type": "stream",
          "text": [
            "Enter the initial state of the puzzle (use numbers 0-8 separated by spaces):\n",
            "1 2 3 -1 4 5 6 7 8\n",
            "Enter the goal state of the puzzle (use numbers 0-8 separated by spaces):\n",
            "1 2 3 6 4 5 7 8 -1\n"
          ]
        },
        {
          "output_type": "execute_result",
          "data": {
            "text/plain": [
              "(True, 3)"
            ]
          },
          "metadata": {},
          "execution_count": 17
        }
      ]
    }
  ]
}