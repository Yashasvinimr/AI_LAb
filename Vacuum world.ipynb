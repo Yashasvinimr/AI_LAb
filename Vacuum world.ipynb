{
  "nbformat": 4,
  "nbformat_minor": 0,
  "metadata": {
    "colab": {
      "provenance": []
    },
    "kernelspec": {
      "name": "python3",
      "display_name": "Python 3"
    },
    "language_info": {
      "name": "python"
    }
  },
  "cells": [
    {
      "cell_type": "code",
      "source": [
        "def printInformation(location):\n",
        "    print(\"Location \" + location + \" is Dirty.\")\n",
        "    print(\"Cost for CLEANING \" + location + \": 1\")\n",
        "    print(\"Location \" + location + \" has been Cleaned.\")\n",
        "\n",
        "\n",
        "def vacuumCleaner(goalState, currentState, location):\n",
        "    # printing necessary data\n",
        "    print(\"Goal State Required:\", goalState)\n",
        "    print(\"Vacuum is placed in Location \" + location)\n",
        "\n",
        "    # cleaning locations\n",
        "    totalCost = 0\n",
        "\n",
        "    while (currentState != goalState):\n",
        "        if (location == \"A\"):\n",
        "            # cleaning\n",
        "            if (currentState[\"A\"] == 1):\n",
        "                currentState[\"A\"] = 0\n",
        "                totalCost += 1\n",
        "                printInformation(\"A\")\n",
        "            # moving\n",
        "            elif (currentState[\"B\"] == 1 ):\n",
        "                print(\"Moving right to the location B.\\nCost for moving RIGHT: 1\")\n",
        "                location = \"B\"\n",
        "                totalCost += 1\n",
        "\n",
        "        elif (location == \"B\"):\n",
        "            # cleaning\n",
        "            if (currentState[\"B\"] == 1):\n",
        "                currentState[\"B\"] = 0\n",
        "                totalCost += 1\n",
        "                printInformation(\"B\")\n",
        "            # moving\n",
        "            elif (currentState[\"A\"] == 1):\n",
        "                print(\"Moving left to the location A.\\nCost for moving LEFT: 1\")\n",
        "                location = \"A\"\n",
        "                totalCost += 1\n",
        "\n",
        "    print(\"GOAL STATE:\", currentState)\n",
        "    return totalCost\n",
        "\n",
        "\n",
        "# declaring dictionaries\n",
        "goalState = {\"A\": 0, \"B\": 0}\n",
        "currentState = {\"A\": -1, \"B\": -1}\n",
        "\n",
        "# taking input from user\n",
        "location = input(\"Enter Location of Vacuum (A/B): \");\n",
        "currentState[\"A\"] = int(input(\"Enter status of A (0/1): \"))\n",
        "currentState[\"B\"] = int(input(\"Enter status of B (0/1): \"))\n",
        "\n",
        "# calling function\n",
        "totalCost = vacuumCleaner(goalState, currentState, location)\n",
        "print(\"Performance Measurement:\", totalCost)"
      ],
      "metadata": {
        "colab": {
          "base_uri": "https://localhost:8080/"
        },
        "id": "YU4SQ0AwnWXE",
        "outputId": "c51abefc-4dae-4f3b-9b73-a947a85cab19"
      },
      "execution_count": null,
      "outputs": [
        {
          "output_type": "stream",
          "name": "stdout",
          "text": [
            "Enter Location of Vacuum (A/B): B\n",
            "Enter status of A (0/1): 1\n",
            "Enter status of B (0/1): 1\n",
            "Goal State Required: {'A': 0, 'B': 0}\n",
            "Vacuum is placed in Location B\n",
            "Location B is Dirty.\n",
            "Cost for CLEANING B: 1\n",
            "Location B has been Cleaned.\n",
            "Moving left to the location A.\n",
            "Cost for moving LEFT: 1\n",
            "Location A is Dirty.\n",
            "Cost for CLEANING A: 1\n",
            "Location A has been Cleaned.\n",
            "GOAL STATE: {'A': 0, 'B': 0}\n",
            "Performance Measurement: 3\n"
          ]
        }
      ]
    }
  ]
}